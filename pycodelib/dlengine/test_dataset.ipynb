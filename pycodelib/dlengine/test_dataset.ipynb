{
 "cells": [
  {
   "cell_type": "code",
   "execution_count": null,
   "metadata": {
    "collapsed": true
   },
   "outputs": [],
   "source": [
    "from pycodelib.dlengine.iterator_getter import H5DataGetter\n",
    "pydir = 'C:\\\\pytable\\\\ROI_new_extractor_20x_512\\\\melanoma_20x_new_train.pytable'\n",
    "from torchvision import transforms\n",
    "import matplotlib.pyplot as plt\n",
    "import PIL\n",
    "import time\n",
    "img_transform =  \\\n",
    " transforms.Compose([\n",
    "        transforms.ToPILImage(),\n",
    "        transforms.RandomHorizontalFlip(),\n",
    "        transforms.RandomRotation(180),\n",
    "        transforms.ColorJitter(brightness=0, contrast=0, saturation=0, hue=.5),\n",
    "        transforms.RandomGrayscale(),\n",
    "        transforms.ToTensor()\n",
    "    ])\n",
    "\n",
    "getter = H5DataGetter.build({True: pydir, False: pydir}, {True: img_transform, False: img_transform})\n",
    "\n",
    "\n",
    "dl = getter.get_iterator(True, True, num_workers=12, pin_memory=True, batch_size=32)\n",
    "\n",
    "start = time.time()\n",
    "for x in dl:\n",
    "    break\n",
    "end = time.time()\n",
    "print(end-start)\n",
    "# test = img_transform(x[0][1,].numpy()).permute([1,2,0])\n",
    "#None: 268.679571390152\n",
    "#aug: 976\n",
    "# No Aug = 98.83628535270691 -> 6workers/Batch 32 ||\n",
    "# Aug = 250.12752485275269 --> 6 workers/Batch 32 ||237.85382866859436 64batch\n",
    "\n"
   ]
  }
 ],
 "metadata": {
  "language_info": {
   "codemirror_mode": {
    "name": "ipython",
    "version": 2
   },
   "file_extension": ".py",
   "mimetype": "text/x-python",
   "name": "python",
   "nbconvert_exporter": "python",
   "pygments_lexer": "ipython2",
   "version": "2.7.6"
  },
  "kernelspec": {
   "name": "python3",
   "language": "python",
   "display_name": "Python 3"
  },
  "pycharm": {
   "stem_cell": {
    "cell_type": "raw",
    "source": [],
    "metadata": {
     "collapsed": false
    }
   }
  }
 },
 "nbformat": 4,
 "nbformat_minor": 0
}